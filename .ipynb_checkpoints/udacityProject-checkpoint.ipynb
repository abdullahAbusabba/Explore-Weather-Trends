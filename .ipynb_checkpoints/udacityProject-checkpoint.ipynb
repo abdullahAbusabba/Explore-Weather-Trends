{
 "cells": [
  {
   "cell_type": "code",
   "execution_count": null,
   "metadata": {},
   "outputs": [],
   "source": [
    "import pandas as pd \n",
    "import matplotlib.pyplot as plt\n",
    "import numpy as np\n",
    "%matplotlib inline "
   ]
  },
  {
   "cell_type": "code",
   "execution_count": null,
   "metadata": {},
   "outputs": [],
   "source": [
    "#loading datasets\n",
    "riyadh_data=pd.read_csv('Riyadh_data.csv')\n",
    "global_data=pd.read_csv('global.csv')"
   ]
  },
  {
   "cell_type": "code",
   "execution_count": 3,
   "metadata": {},
   "outputs": [
    {
     "name": "stdout",
     "output_type": "stream",
     "text": [
      "check if local city is in city_list :\n"
     ]
    },
    {
     "data": {
      "text/html": [
       "<div>\n",
       "<style scoped>\n",
       "    .dataframe tbody tr th:only-of-type {\n",
       "        vertical-align: middle;\n",
       "    }\n",
       "\n",
       "    .dataframe tbody tr th {\n",
       "        vertical-align: top;\n",
       "    }\n",
       "\n",
       "    .dataframe thead th {\n",
       "        text-align: right;\n",
       "    }\n",
       "</style>\n",
       "<table border=\"1\" class=\"dataframe\">\n",
       "  <thead>\n",
       "    <tr style=\"text-align: right;\">\n",
       "      <th></th>\n",
       "      <th>city</th>\n",
       "      <th>country</th>\n",
       "    </tr>\n",
       "  </thead>\n",
       "  <tbody>\n",
       "    <tr>\n",
       "      <td>267</td>\n",
       "      <td>Riyadh</td>\n",
       "      <td>Saudi Arabia</td>\n",
       "    </tr>\n",
       "  </tbody>\n",
       "</table>\n",
       "</div>"
      ],
      "text/plain": [
       "       city       country\n",
       "267  Riyadh  Saudi Arabia"
      ]
     },
     "execution_count": 3,
     "metadata": {},
     "output_type": "execute_result"
    }
   ],
   "source": [
    "riyadh_data"
   ]
  },
  {
   "cell_type": "code",
   "execution_count": 4,
   "metadata": {},
   "outputs": [],
   "source": []
  },
  {
   "cell_type": "code",
   "execution_count": 5,
   "metadata": {},
   "outputs": [
    {
     "name": "stderr",
     "output_type": "stream",
     "text": [
      "/Users/abdullahabu-sabba/opt/anaconda3/lib/python3.7/site-packages/pandas/core/frame.py:4244: SettingWithCopyWarning: \n",
      "A value is trying to be set on a copy of a slice from a DataFrame\n",
      "\n",
      "See the caveats in the documentation: http://pandas.pydata.org/pandas-docs/stable/user_guide/indexing.html#returning-a-view-versus-a-copy\n",
      "  **kwargs\n"
     ]
    }
   ],
   "source": [
    "riyadh_data.fillna(method='ffill',inplace=True)"
   ]
  },
  {
   "cell_type": "code",
   "execution_count": 6,
   "metadata": {},
   "outputs": [
    {
     "data": {
      "text/plain": [
       "city        0\n",
       "country     0\n",
       "avg_temp    0\n",
       "dtype: int64"
      ]
     },
     "execution_count": 6,
     "metadata": {},
     "output_type": "execute_result"
    }
   ],
   "source": [
    "local_data.isna().sum()"
   ]
  },
  {
   "cell_type": "code",
   "execution_count": 7,
   "metadata": {},
   "outputs": [
    {
     "data": {
      "text/html": [
       "<div>\n",
       "<style scoped>\n",
       "    .dataframe tbody tr th:only-of-type {\n",
       "        vertical-align: middle;\n",
       "    }\n",
       "\n",
       "    .dataframe tbody tr th {\n",
       "        vertical-align: top;\n",
       "    }\n",
       "\n",
       "    .dataframe thead th {\n",
       "        text-align: right;\n",
       "    }\n",
       "</style>\n",
       "<table border=\"1\" class=\"dataframe\">\n",
       "  <thead>\n",
       "    <tr style=\"text-align: right;\">\n",
       "      <th></th>\n",
       "      <th>global_temp</th>\n",
       "    </tr>\n",
       "    <tr>\n",
       "      <th>year</th>\n",
       "      <th></th>\n",
       "    </tr>\n",
       "  </thead>\n",
       "  <tbody>\n",
       "    <tr>\n",
       "      <td>1843-01-01</td>\n",
       "      <td>8.17</td>\n",
       "    </tr>\n",
       "    <tr>\n",
       "      <td>1844-01-01</td>\n",
       "      <td>7.65</td>\n",
       "    </tr>\n",
       "    <tr>\n",
       "      <td>1845-01-01</td>\n",
       "      <td>7.85</td>\n",
       "    </tr>\n",
       "    <tr>\n",
       "      <td>1846-01-01</td>\n",
       "      <td>8.55</td>\n",
       "    </tr>\n",
       "    <tr>\n",
       "      <td>1847-01-01</td>\n",
       "      <td>8.09</td>\n",
       "    </tr>\n",
       "  </tbody>\n",
       "</table>\n",
       "</div>"
      ],
      "text/plain": [
       "            global_temp\n",
       "year                   \n",
       "1843-01-01         8.17\n",
       "1844-01-01         7.65\n",
       "1845-01-01         7.85\n",
       "1846-01-01         8.55\n",
       "1847-01-01         8.09"
      ]
     },
     "execution_count": 7,
     "metadata": {},
     "output_type": "execute_result"
    }
   ],
   "source": []
  },
  {
   "cell_type": "code",
   "execution_count": 8,
   "metadata": {},
   "outputs": [
    {
     "data": {
      "text/html": [
       "<div>\n",
       "<style scoped>\n",
       "    .dataframe tbody tr th:only-of-type {\n",
       "        vertical-align: middle;\n",
       "    }\n",
       "\n",
       "    .dataframe tbody tr th {\n",
       "        vertical-align: top;\n",
       "    }\n",
       "\n",
       "    .dataframe thead th {\n",
       "        text-align: right;\n",
       "    }\n",
       "</style>\n",
       "<table border=\"1\" class=\"dataframe\">\n",
       "  <thead>\n",
       "    <tr style=\"text-align: right;\">\n",
       "      <th></th>\n",
       "      <th>Riyadh_temp</th>\n",
       "    </tr>\n",
       "    <tr>\n",
       "      <th>year</th>\n",
       "      <th></th>\n",
       "    </tr>\n",
       "  </thead>\n",
       "  <tbody>\n",
       "    <tr>\n",
       "      <td>1843-01-01</td>\n",
       "      <td>24.74</td>\n",
       "    </tr>\n",
       "    <tr>\n",
       "      <td>1844-01-01</td>\n",
       "      <td>15.45</td>\n",
       "    </tr>\n",
       "    <tr>\n",
       "      <td>1845-01-01</td>\n",
       "      <td>20.82</td>\n",
       "    </tr>\n",
       "    <tr>\n",
       "      <td>1846-01-01</td>\n",
       "      <td>20.82</td>\n",
       "    </tr>\n",
       "    <tr>\n",
       "      <td>1847-01-01</td>\n",
       "      <td>20.82</td>\n",
       "    </tr>\n",
       "  </tbody>\n",
       "</table>\n",
       "</div>"
      ],
      "text/plain": [
       "            Riyadh_temp\n",
       "year                   \n",
       "1843-01-01        24.74\n",
       "1844-01-01        15.45\n",
       "1845-01-01        20.82\n",
       "1846-01-01        20.82\n",
       "1847-01-01        20.82"
      ]
     },
     "execution_count": 8,
     "metadata": {},
     "output_type": "execute_result"
    }
   ],
   "source": []
  },
  {
   "cell_type": "code",
   "execution_count": 9,
   "metadata": {},
   "outputs": [
    {
     "data": {
      "text/plain": [
       "171"
      ]
     },
     "execution_count": 9,
     "metadata": {},
     "output_type": "execute_result"
    }
   ],
   "source": [
    "riyadh_sma=riyadh_data[]"
   ]
  },
  {
   "cell_type": "code",
   "execution_count": 10,
   "metadata": {},
   "outputs": [
    {
     "name": "stdout",
     "output_type": "stream",
     "text": [
      "type : <class 'pandas.core.series.Series'>\n",
      "length : 171\n"
     ]
    }
   ],
   "source": []
  },
  {
   "cell_type": "code",
   "execution_count": 11,
   "metadata": {},
   "outputs": [],
   "source": []
  },
  {
   "cell_type": "code",
   "execution_count": 12,
   "metadata": {},
   "outputs": [
    {
     "name": "stdout",
     "output_type": "stream",
     "text": [
      "-- before Applying simple moveing average\n",
      "type : <class 'pandas.core.series.Series'>\n",
      "length : 171\n",
      "-- after Applying simple moveing average and adding null window \n",
      "type : <class 'list'>\n",
      "length : 171\n"
     ]
    }
   ],
   "source": [
    "sma=mv(sma_7,7)"
   ]
  },
  {
   "cell_type": "code",
   "execution_count": 13,
   "metadata": {},
   "outputs": [],
   "source": [
    "local_data.insert(1,'SMA_7',sma,True)"
   ]
  },
  {
   "cell_type": "code",
   "execution_count": 14,
   "metadata": {},
   "outputs": [
    {
     "data": {
      "text/html": [
       "<div>\n",
       "<style scoped>\n",
       "    .dataframe tbody tr th:only-of-type {\n",
       "        vertical-align: middle;\n",
       "    }\n",
       "\n",
       "    .dataframe tbody tr th {\n",
       "        vertical-align: top;\n",
       "    }\n",
       "\n",
       "    .dataframe thead th {\n",
       "        text-align: right;\n",
       "    }\n",
       "</style>\n",
       "<table border=\"1\" class=\"dataframe\">\n",
       "  <thead>\n",
       "    <tr style=\"text-align: right;\">\n",
       "      <th></th>\n",
       "      <th>Riyadh_temp</th>\n",
       "      <th>SMA_7</th>\n",
       "    </tr>\n",
       "    <tr>\n",
       "      <th>year</th>\n",
       "      <th></th>\n",
       "      <th></th>\n",
       "    </tr>\n",
       "  </thead>\n",
       "  <tbody>\n",
       "    <tr>\n",
       "      <td>1843-01-01</td>\n",
       "      <td>24.74</td>\n",
       "      <td>21.715714</td>\n",
       "    </tr>\n",
       "    <tr>\n",
       "      <td>1844-01-01</td>\n",
       "      <td>15.45</td>\n",
       "      <td>21.658571</td>\n",
       "    </tr>\n",
       "    <tr>\n",
       "      <td>1845-01-01</td>\n",
       "      <td>20.82</td>\n",
       "      <td>23.027143</td>\n",
       "    </tr>\n",
       "    <tr>\n",
       "      <td>1846-01-01</td>\n",
       "      <td>20.82</td>\n",
       "      <td>23.602857</td>\n",
       "    </tr>\n",
       "    <tr>\n",
       "      <td>1847-01-01</td>\n",
       "      <td>20.82</td>\n",
       "      <td>24.190000</td>\n",
       "    </tr>\n",
       "    <tr>\n",
       "      <td>1848-01-01</td>\n",
       "      <td>24.56</td>\n",
       "      <td>24.747143</td>\n",
       "    </tr>\n",
       "    <tr>\n",
       "      <td>1849-01-01</td>\n",
       "      <td>24.80</td>\n",
       "      <td>24.798571</td>\n",
       "    </tr>\n",
       "    <tr>\n",
       "      <td>1850-01-01</td>\n",
       "      <td>24.34</td>\n",
       "      <td>24.765714</td>\n",
       "    </tr>\n",
       "    <tr>\n",
       "      <td>1851-01-01</td>\n",
       "      <td>25.03</td>\n",
       "      <td>24.754286</td>\n",
       "    </tr>\n",
       "    <tr>\n",
       "      <td>1852-01-01</td>\n",
       "      <td>24.85</td>\n",
       "      <td>24.751429</td>\n",
       "    </tr>\n",
       "  </tbody>\n",
       "</table>\n",
       "</div>"
      ],
      "text/plain": [
       "            Riyadh_temp      SMA_7\n",
       "year                              \n",
       "1843-01-01        24.74  21.715714\n",
       "1844-01-01        15.45  21.658571\n",
       "1845-01-01        20.82  23.027143\n",
       "1846-01-01        20.82  23.602857\n",
       "1847-01-01        20.82  24.190000\n",
       "1848-01-01        24.56  24.747143\n",
       "1849-01-01        24.80  24.798571\n",
       "1850-01-01        24.34  24.765714\n",
       "1851-01-01        25.03  24.754286\n",
       "1852-01-01        24.85  24.751429"
      ]
     },
     "execution_count": 14,
     "metadata": {},
     "output_type": "execute_result"
    }
   ],
   "source": [
    "local_data.head(10)"
   ]
  },
  {
   "cell_type": "code",
   "execution_count": 15,
   "metadata": {},
   "outputs": [
    {
     "data": {
      "text/plain": [
       "<bound method NDFrame.head of             Riyadh_temp\n",
       "year                   \n",
       "1843-01-01        24.74\n",
       "1844-01-01        15.45\n",
       "1845-01-01        20.82\n",
       "1846-01-01        20.82\n",
       "1847-01-01        20.82\n",
       "...                 ...\n",
       "2009-01-01        26.71\n",
       "2010-01-01        27.37\n",
       "2011-01-01        26.40\n",
       "2012-01-01        26.83\n",
       "2013-01-01        27.78\n",
       "\n",
       "[171 rows x 1 columns]>"
      ]
     },
     "execution_count": 15,
     "metadata": {},
     "output_type": "execute_result"
    }
   ],
   "source": [
    "\n",
    "\n",
    " df.head\n"
   ]
  },
  {
   "cell_type": "code",
   "execution_count": 16,
   "metadata": {},
   "outputs": [
    {
     "data": {
      "text/html": [
       "<div>\n",
       "<style scoped>\n",
       "    .dataframe tbody tr th:only-of-type {\n",
       "        vertical-align: middle;\n",
       "    }\n",
       "\n",
       "    .dataframe tbody tr th {\n",
       "        vertical-align: top;\n",
       "    }\n",
       "\n",
       "    .dataframe thead th {\n",
       "        text-align: right;\n",
       "    }\n",
       "</style>\n",
       "<table border=\"1\" class=\"dataframe\">\n",
       "  <thead>\n",
       "    <tr style=\"text-align: right;\">\n",
       "      <th></th>\n",
       "      <th>Riyadh_temp</th>\n",
       "    </tr>\n",
       "    <tr>\n",
       "      <th>year</th>\n",
       "      <th></th>\n",
       "    </tr>\n",
       "  </thead>\n",
       "  <tbody>\n",
       "    <tr>\n",
       "      <td>1843-01-01</td>\n",
       "      <td>NaN</td>\n",
       "    </tr>\n",
       "    <tr>\n",
       "      <td>1844-01-01</td>\n",
       "      <td>NaN</td>\n",
       "    </tr>\n",
       "    <tr>\n",
       "      <td>1845-01-01</td>\n",
       "      <td>NaN</td>\n",
       "    </tr>\n",
       "    <tr>\n",
       "      <td>1846-01-01</td>\n",
       "      <td>NaN</td>\n",
       "    </tr>\n",
       "    <tr>\n",
       "      <td>1847-01-01</td>\n",
       "      <td>NaN</td>\n",
       "    </tr>\n",
       "    <tr>\n",
       "      <td>1848-01-01</td>\n",
       "      <td>NaN</td>\n",
       "    </tr>\n",
       "    <tr>\n",
       "      <td>1849-01-01</td>\n",
       "      <td>21.715714</td>\n",
       "    </tr>\n",
       "    <tr>\n",
       "      <td>1850-01-01</td>\n",
       "      <td>21.658571</td>\n",
       "    </tr>\n",
       "    <tr>\n",
       "      <td>1851-01-01</td>\n",
       "      <td>23.027143</td>\n",
       "    </tr>\n",
       "    <tr>\n",
       "      <td>1852-01-01</td>\n",
       "      <td>23.602857</td>\n",
       "    </tr>\n",
       "  </tbody>\n",
       "</table>\n",
       "</div>"
      ],
      "text/plain": [
       "            Riyadh_temp\n",
       "year                   \n",
       "1843-01-01          NaN\n",
       "1844-01-01          NaN\n",
       "1845-01-01          NaN\n",
       "1846-01-01          NaN\n",
       "1847-01-01          NaN\n",
       "1848-01-01          NaN\n",
       "1849-01-01    21.715714\n",
       "1850-01-01    21.658571\n",
       "1851-01-01    23.027143\n",
       "1852-01-01    23.602857"
      ]
     },
     "execution_count": 16,
     "metadata": {},
     "output_type": "execute_result"
    }
   ],
   "source": [
    "df.rolling(7).mean().head(10)"
   ]
  },
  {
   "cell_type": "code",
   "execution_count": 17,
   "metadata": {},
   "outputs": [
    {
     "data": {
      "text/html": [
       "<div>\n",
       "<style scoped>\n",
       "    .dataframe tbody tr th:only-of-type {\n",
       "        vertical-align: middle;\n",
       "    }\n",
       "\n",
       "    .dataframe tbody tr th {\n",
       "        vertical-align: top;\n",
       "    }\n",
       "\n",
       "    .dataframe thead th {\n",
       "        text-align: right;\n",
       "    }\n",
       "</style>\n",
       "<table border=\"1\" class=\"dataframe\">\n",
       "  <thead>\n",
       "    <tr style=\"text-align: right;\">\n",
       "      <th></th>\n",
       "      <th>Riyadh_temp</th>\n",
       "      <th>SMA_7</th>\n",
       "    </tr>\n",
       "    <tr>\n",
       "      <th>year</th>\n",
       "      <th></th>\n",
       "      <th></th>\n",
       "    </tr>\n",
       "  </thead>\n",
       "  <tbody>\n",
       "    <tr>\n",
       "      <td>1843-01-01</td>\n",
       "      <td>24.74</td>\n",
       "      <td>21.715714</td>\n",
       "    </tr>\n",
       "    <tr>\n",
       "      <td>1844-01-01</td>\n",
       "      <td>15.45</td>\n",
       "      <td>21.658571</td>\n",
       "    </tr>\n",
       "    <tr>\n",
       "      <td>1845-01-01</td>\n",
       "      <td>20.82</td>\n",
       "      <td>23.027143</td>\n",
       "    </tr>\n",
       "    <tr>\n",
       "      <td>1846-01-01</td>\n",
       "      <td>20.82</td>\n",
       "      <td>23.602857</td>\n",
       "    </tr>\n",
       "    <tr>\n",
       "      <td>1847-01-01</td>\n",
       "      <td>20.82</td>\n",
       "      <td>24.190000</td>\n",
       "    </tr>\n",
       "    <tr>\n",
       "      <td>1848-01-01</td>\n",
       "      <td>24.56</td>\n",
       "      <td>24.747143</td>\n",
       "    </tr>\n",
       "    <tr>\n",
       "      <td>1849-01-01</td>\n",
       "      <td>24.80</td>\n",
       "      <td>24.798571</td>\n",
       "    </tr>\n",
       "    <tr>\n",
       "      <td>1850-01-01</td>\n",
       "      <td>24.34</td>\n",
       "      <td>24.765714</td>\n",
       "    </tr>\n",
       "    <tr>\n",
       "      <td>1851-01-01</td>\n",
       "      <td>25.03</td>\n",
       "      <td>24.754286</td>\n",
       "    </tr>\n",
       "    <tr>\n",
       "      <td>1852-01-01</td>\n",
       "      <td>24.85</td>\n",
       "      <td>24.751429</td>\n",
       "    </tr>\n",
       "  </tbody>\n",
       "</table>\n",
       "</div>"
      ],
      "text/plain": [
       "            Riyadh_temp      SMA_7\n",
       "year                              \n",
       "1843-01-01        24.74  21.715714\n",
       "1844-01-01        15.45  21.658571\n",
       "1845-01-01        20.82  23.027143\n",
       "1846-01-01        20.82  23.602857\n",
       "1847-01-01        20.82  24.190000\n",
       "1848-01-01        24.56  24.747143\n",
       "1849-01-01        24.80  24.798571\n",
       "1850-01-01        24.34  24.765714\n",
       "1851-01-01        25.03  24.754286\n",
       "1852-01-01        24.85  24.751429"
      ]
     },
     "execution_count": 17,
     "metadata": {},
     "output_type": "execute_result"
    }
   ],
   "source": [
    "local_data.head(10)"
   ]
  },
  {
   "cell_type": "code",
   "execution_count": null,
   "metadata": {},
   "outputs": [],
   "source": []
  },
  {
   "cell_type": "code",
   "execution_count": null,
   "metadata": {},
   "outputs": [],
   "source": []
  }
 ],
 "metadata": {
  "kernelspec": {
   "display_name": "Python 3",
   "language": "python",
   "name": "python3"
  },
  "language_info": {
   "codemirror_mode": {
    "name": "ipython",
    "version": 3
   },
   "file_extension": ".py",
   "mimetype": "text/x-python",
   "name": "python",
   "nbconvert_exporter": "python",
   "pygments_lexer": "ipython3",
   "version": "3.7.4"
  }
 },
 "nbformat": 4,
 "nbformat_minor": 2
}
